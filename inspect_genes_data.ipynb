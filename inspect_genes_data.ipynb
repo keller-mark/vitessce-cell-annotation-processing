{
 "cells": [
  {
   "cell_type": "code",
   "execution_count": 31,
   "metadata": {},
   "outputs": [],
   "source": [
    "from anndata import read_h5ad\n",
    "import pyarrow as pa\n",
    "import pandas as pd\n",
    "import numpy as np\n",
    "import json\n",
    "import zarr\n",
    "import os\n",
    "from hurry.filesize import size\n",
    "from numcodecs import Zlib"
   ]
  },
  {
   "cell_type": "code",
   "execution_count": 32,
   "metadata": {},
   "outputs": [],
   "source": [
    "out = read_h5ad(\"out.h5ad\")\n",
    "cluster_marker_genes = read_h5ad(\"cluster_marker_genes.h5ad\")"
   ]
  },
  {
   "cell_type": "code",
   "execution_count": 33,
   "metadata": {},
   "outputs": [
    {
     "data": {
      "text/plain": [
       "AnnData object with n_obs × n_vars = 6010 × 9006 \n",
       "    obs: 'n_genes', 'n_counts', 'leiden'\n",
       "    var: 'n_cells'\n",
       "    uns: 'leiden', 'leiden_colors', 'neighbors', 'rank_genes_groups', 'umap'\n",
       "    obsm: 'X_pca', 'X_umap'"
      ]
     },
     "execution_count": 33,
     "metadata": {},
     "output_type": "execute_result"
    }
   ],
   "source": [
    "cluster_marker_genes"
   ]
  },
  {
   "cell_type": "code",
   "execution_count": 34,
   "metadata": {},
   "outputs": [
    {
     "data": {
      "text/plain": [
       "AnnData object with n_obs × n_vars = 6287 × 38032 "
      ]
     },
     "execution_count": 34,
     "metadata": {},
     "output_type": "execute_result"
    }
   ],
   "source": [
    "out"
   ]
  },
  {
   "cell_type": "code",
   "execution_count": 35,
   "metadata": {},
   "outputs": [],
   "source": [
    "# Choose one of the two anndata objects for analysis\n",
    "gexp = cluster_marker_genes"
   ]
  },
  {
   "cell_type": "code",
   "execution_count": 36,
   "metadata": {},
   "outputs": [],
   "source": [
    "gexp_arr = gexp.X\n",
    "gexp_df = gexp.to_df()"
   ]
  },
  {
   "cell_type": "code",
   "execution_count": 37,
   "metadata": {},
   "outputs": [
    {
     "data": {
      "text/plain": [
       "(6010, 9006)"
      ]
     },
     "execution_count": 37,
     "metadata": {},
     "output_type": "execute_result"
    }
   ],
   "source": [
    "gexp_arr.shape"
   ]
  },
  {
   "cell_type": "code",
   "execution_count": 38,
   "metadata": {},
   "outputs": [
    {
     "data": {
      "text/plain": [
       "-1.0937375"
      ]
     },
     "execution_count": 38,
     "metadata": {},
     "output_type": "execute_result"
    }
   ],
   "source": [
    "gexp_arr.min()"
   ]
  },
  {
   "cell_type": "code",
   "execution_count": 39,
   "metadata": {},
   "outputs": [],
   "source": [
    "# Re-scale the gene expression values between 0 and 255\n",
    "gexp_arr_min = gexp_arr.min()\n",
    "gexp_arr_max = gexp_arr.max()\n",
    "gexp_arr_range = gexp_arr_max - gexp_arr_min\n",
    "gexp_arr_ratio = 255 / gexp_arr_range\n",
    "\n",
    "gexp_norm_arr = (gexp_arr - gexp_arr_min) * gexp_arr_ratio"
   ]
  },
  {
   "cell_type": "code",
   "execution_count": 40,
   "metadata": {},
   "outputs": [],
   "source": [
    "gexp_norm_df = pd.DataFrame(index=gexp_df.index.values.tolist(), columns=gexp_df.columns.values.tolist(), data=gexp_norm_arr)"
   ]
  },
  {
   "cell_type": "code",
   "execution_count": 11,
   "metadata": {},
   "outputs": [],
   "source": [
    "# Try CSV\n",
    "gexp_norm_df.to_csv(\"cluster_marker_genes.csv\")"
   ]
  },
  {
   "cell_type": "code",
   "execution_count": 12,
   "metadata": {},
   "outputs": [],
   "source": [
    "# Try Arrow\n",
    "table = pa.Table.from_pandas(gexp_norm_df)\n",
    "\n",
    "with pa.RecordBatchFileWriter(\"cluster_marker_genes.arrow\", table.schema) as writer:\n",
    "    writer.write(table)"
   ]
  },
  {
   "cell_type": "code",
   "execution_count": 145,
   "metadata": {},
   "outputs": [],
   "source": [
    "# Try genes.json\n",
    "\"\"\"\n",
    "{\n",
    "    \"Gad2\": {\n",
    "        \"max\": 237,\n",
    "        \"cells\": {\n",
    "            \"1\": 0,\n",
    "            \"2\": 3\n",
    "        }\n",
    "    },\n",
    "    \"Slc32a1\": {\n",
    "        \"max\": 123,\n",
    "        \"cells\": {\n",
    "            \"1\": 4,\n",
    "            \"2\": 5\n",
    "        }\n",
    "    }\n",
    "}\n",
    "\"\"\"\n",
    "genes_json = gexp_norm_df.to_dict()\n",
    "for k, v in genes_json.items():\n",
    "    genes_json[k] = {\n",
    "        \"max\": int(gexp_norm_df[k].max()),\n",
    "        \"cells\": dict(zip(v.keys(), map(int, v.values()))),\n",
    "    }\n",
    "\n",
    "with open(\"cluster_marker_genes.genes.json\", 'w') as f:\n",
    "    json.dump(genes_json, f)"
   ]
  },
  {
   "cell_type": "code",
   "execution_count": 146,
   "metadata": {},
   "outputs": [],
   "source": []
  },
  {
   "cell_type": "code",
   "execution_count": 26,
   "metadata": {},
   "outputs": [],
   "source": [
    "# Try clusters.json\n",
    "\"\"\"\n",
    "{\n",
    "    \"rows\": [\n",
    "        \"Gad2\",\n",
    "        \"Slc32a1\"\n",
    "    ],\n",
    "    \"cols\": [\n",
    "        \"1\",\n",
    "        \"2\"\n",
    "    ],\n",
    "    \"matrix\": [\n",
    "        [0, 4],\n",
    "        [3, 5]\n",
    "    ]\n",
    "}\n",
    "\"\"\"\n",
    "\n",
    "clusters_json = {\n",
    "    \"rows\": gexp.obs.index.values.tolist(),\n",
    "    \"cols\": gexp.var.index.values.tolist(),\n",
    "    \"matrix\": [ list(map(int, r)) for r in gexp_norm_arr ]\n",
    "}\n",
    "\n",
    "with open(\"cluster_marker_genes.clusters.json\", 'w') as f:\n",
    "    json.dump(clusters_json, f)"
   ]
  },
  {
   "cell_type": "code",
   "execution_count": 41,
   "metadata": {},
   "outputs": [],
   "source": [
    "z = zarr.open(\n",
    "    'cluster_marker_genes.zarr',\n",
    "    mode='w',\n",
    "    shape=gexp_norm_arr.shape,\n",
    "    dtype='uint8',\n",
    "    compressor=Zlib(level=1)\n",
    ")\n",
    "\n",
    "# data\n",
    "z[:] = gexp_norm_arr\n",
    "# observations: cells (rows)\n",
    "z.attrs[\"obs\"] = gexp.obs.index.values.tolist()\n",
    "# variables: genes (columns)\n",
    "z.attrs[\"var\"] = gexp.var.index.values.tolist()"
   ]
  },
  {
   "cell_type": "code",
   "execution_count": 42,
   "metadata": {},
   "outputs": [
    {
     "data": {
      "text/html": [
       "<table class=\"zarr-info\"><tbody><tr><th style=\"text-align: left\">Type</th><td style=\"text-align: left\">zarr.core.Array</td></tr><tr><th style=\"text-align: left\">Data type</th><td style=\"text-align: left\">uint8</td></tr><tr><th style=\"text-align: left\">Shape</th><td style=\"text-align: left\">(6010, 9006)</td></tr><tr><th style=\"text-align: left\">Chunk shape</th><td style=\"text-align: left\">(752, 1126)</td></tr><tr><th style=\"text-align: left\">Order</th><td style=\"text-align: left\">C</td></tr><tr><th style=\"text-align: left\">Read-only</th><td style=\"text-align: left\">False</td></tr><tr><th style=\"text-align: left\">Compressor</th><td style=\"text-align: left\">Zlib(level=1)</td></tr><tr><th style=\"text-align: left\">Store type</th><td style=\"text-align: left\">zarr.storage.DirectoryStore</td></tr><tr><th style=\"text-align: left\">No. bytes</th><td style=\"text-align: left\">54126060 (51.6M)</td></tr><tr><th style=\"text-align: left\">No. bytes stored</th><td style=\"text-align: left\">15537346 (14.8M)</td></tr><tr><th style=\"text-align: left\">Storage ratio</th><td style=\"text-align: left\">3.5</td></tr><tr><th style=\"text-align: left\">Chunks initialized</th><td style=\"text-align: left\">64/64</td></tr></tbody></table>"
      ],
      "text/plain": [
       "Type               : zarr.core.Array\n",
       "Data type          : uint8\n",
       "Shape              : (6010, 9006)\n",
       "Chunk shape        : (752, 1126)\n",
       "Order              : C\n",
       "Read-only          : False\n",
       "Compressor         : Zlib(level=1)\n",
       "Store type         : zarr.storage.DirectoryStore\n",
       "No. bytes          : 54126060 (51.6M)\n",
       "No. bytes stored   : 15537346 (14.8M)\n",
       "Storage ratio      : 3.5\n",
       "Chunks initialized : 64/64"
      ]
     },
     "execution_count": 42,
     "metadata": {},
     "output_type": "execute_result"
    }
   ],
   "source": [
    "z.info"
   ]
  },
  {
   "cell_type": "code",
   "execution_count": 43,
   "metadata": {},
   "outputs": [
    {
     "data": {
      "text/html": [
       "<div>\n",
       "<style scoped>\n",
       "    .dataframe tbody tr th:only-of-type {\n",
       "        vertical-align: middle;\n",
       "    }\n",
       "\n",
       "    .dataframe tbody tr th {\n",
       "        vertical-align: top;\n",
       "    }\n",
       "\n",
       "    .dataframe thead th {\n",
       "        text-align: right;\n",
       "    }\n",
       "</style>\n",
       "<table border=\"1\" class=\"dataframe\">\n",
       "  <thead>\n",
       "    <tr style=\"text-align: right;\">\n",
       "      <th></th>\n",
       "      <th>size</th>\n",
       "      <th>size_str</th>\n",
       "    </tr>\n",
       "    <tr>\n",
       "      <th>ext</th>\n",
       "      <th></th>\n",
       "      <th></th>\n",
       "    </tr>\n",
       "  </thead>\n",
       "  <tbody>\n",
       "    <tr>\n",
       "      <th>zarr</th>\n",
       "      <td>15537346</td>\n",
       "      <td>14M</td>\n",
       "    </tr>\n",
       "    <tr>\n",
       "      <th>clusters.json</th>\n",
       "      <td>217422070</td>\n",
       "      <td>207M</td>\n",
       "    </tr>\n",
       "    <tr>\n",
       "      <th>arrow</th>\n",
       "      <td>220597802</td>\n",
       "      <td>210M</td>\n",
       "    </tr>\n",
       "    <tr>\n",
       "      <th>csv</th>\n",
       "      <td>528811342</td>\n",
       "      <td>504M</td>\n",
       "    </tr>\n",
       "    <tr>\n",
       "      <th>genes.json</th>\n",
       "      <td>1300036168</td>\n",
       "      <td>1G</td>\n",
       "    </tr>\n",
       "  </tbody>\n",
       "</table>\n",
       "</div>"
      ],
      "text/plain": [
       "                     size size_str\n",
       "ext                               \n",
       "zarr             15537346      14M\n",
       "clusters.json   217422070     207M\n",
       "arrow           220597802     210M\n",
       "csv             528811342     504M\n",
       "genes.json     1300036168       1G"
      ]
     },
     "execution_count": 43,
     "metadata": {},
     "output_type": "execute_result"
    }
   ],
   "source": [
    "size_df = pd.DataFrame(columns=[\"ext\", \"size\", \"size_str\"], index=[], data=[])\n",
    "for ext in [\"zarr\", \"clusters.json\", \"arrow\", \"csv\", \"genes.json\"]:\n",
    "    file_name = f\"cluster_marker_genes.{ext}\"\n",
    "    if ext == \"zarr\":\n",
    "        file_size = sum(os.path.getsize(os.path.join(file_name, f)) for f in os.listdir(file_name))\n",
    "    else:\n",
    "        file_size = os.path.getsize(file_name)\n",
    "    size_df = size_df.append({ \"ext\": ext, \"size\": file_size, \"size_str\": size(file_size) }, ignore_index=True)\n",
    "size_df.set_index(\"ext\")"
   ]
  },
  {
   "cell_type": "code",
   "execution_count": null,
   "metadata": {},
   "outputs": [],
   "source": []
  }
 ],
 "metadata": {
  "kernelspec": {
   "display_name": "Python 3",
   "language": "python",
   "name": "python3"
  },
  "language_info": {
   "codemirror_mode": {
    "name": "ipython",
    "version": 3
   },
   "file_extension": ".py",
   "mimetype": "text/x-python",
   "name": "python",
   "nbconvert_exporter": "python",
   "pygments_lexer": "ipython3",
   "version": "3.6.10"
  }
 },
 "nbformat": 4,
 "nbformat_minor": 4
}
